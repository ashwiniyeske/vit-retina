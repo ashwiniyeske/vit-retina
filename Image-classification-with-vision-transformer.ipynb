{
 "cells": [
  {
   "cell_type": "code",
   "execution_count": 1,
   "id": "bfab2da6",
   "metadata": {
    "_cell_guid": "b1076dfc-b9ad-4769-8c92-a6c4dae69d19",
    "_uuid": "8f2839f25d086af736a60e9eeb907d3b93b6e0e5",
    "execution": {
     "iopub.execute_input": "2023-11-17T15:39:02.786849Z",
     "iopub.status.busy": "2023-11-17T15:39:02.786496Z",
     "iopub.status.idle": "2023-11-17T15:39:03.539505Z",
     "shell.execute_reply": "2023-11-17T15:39:03.538561Z"
    },
    "papermill": {
     "duration": 0.761996,
     "end_time": "2023-11-17T15:39:03.541747",
     "exception": false,
     "start_time": "2023-11-17T15:39:02.779751",
     "status": "completed"
    },
    "tags": []
   },
   "outputs": [],
   "source": [
    "# This Python 3 environment comes with many helpful analytics libraries installed\n",
    "# It is defined by the kaggle/python Docker image: https://github.com/kaggle/docker-python\n",
    "# For example, here's several helpful packages to load\n",
    "\n",
    "import numpy as np # linear algebra\n",
    "import pandas as pd # data processing, CSV file I/O (e.g. pd.read_csv)\n",
    "\n",
    "# Input data files are available in the read-only \"../input/\" directory\n",
    "# For example, running this (by clicking run or pressing Shift+Enter) will list all files under the input directory\n",
    "\n",
    "import os\n",
    "for dirname, _, filenames in os.walk('/kaggle/input'):\n",
    "    for filename in filenames:\n",
    "        print(os.path.join(dirname, filename))\n",
    "\n",
    "# You can write up to 20GB to the current directory (/kaggle/working/) that gets preserved as output when you create a version using \"Save & Run All\" \n",
    "# You can also write temporary files to /kaggle/temp/, but they won't be saved outside of the current session"
   ]
  },
  {
   "cell_type": "code",
   "execution_count": 2,
   "id": "9c142c07",
   "metadata": {
    "execution": {
     "iopub.execute_input": "2023-11-17T15:39:03.553169Z",
     "iopub.status.busy": "2023-11-17T15:39:03.552370Z",
     "iopub.status.idle": "2023-11-17T15:39:16.649804Z",
     "shell.execute_reply": "2023-11-17T15:39:16.648887Z"
    },
    "papermill": {
     "duration": 13.105381,
     "end_time": "2023-11-17T15:39:16.652219",
     "exception": false,
     "start_time": "2023-11-17T15:39:03.546838",
     "status": "completed"
    },
    "tags": []
   },
   "outputs": [
    {
     "name": "stdout",
     "output_type": "stream",
     "text": [
      "Requirement already satisfied: tensorflow-addons in /opt/conda/lib/python3.10/site-packages (0.22.0)\r\n",
      "Requirement already satisfied: packaging in /opt/conda/lib/python3.10/site-packages (from tensorflow-addons) (21.3)\r\n",
      "Requirement already satisfied: typeguard<3.0.0,>=2.7 in /opt/conda/lib/python3.10/site-packages (from tensorflow-addons) (2.13.3)\r\n",
      "Requirement already satisfied: pyparsing!=3.0.5,>=2.0.2 in /opt/conda/lib/python3.10/site-packages (from packaging->tensorflow-addons) (3.0.9)\r\n"
     ]
    }
   ],
   "source": [
    "!pip install -U tensorflow-addons"
   ]
  },
  {
   "cell_type": "code",
   "execution_count": 3,
   "id": "26463f19",
   "metadata": {
    "execution": {
     "iopub.execute_input": "2023-11-17T15:39:16.664015Z",
     "iopub.status.busy": "2023-11-17T15:39:16.663715Z",
     "iopub.status.idle": "2023-11-17T15:39:28.535361Z",
     "shell.execute_reply": "2023-11-17T15:39:28.534442Z"
    },
    "papermill": {
     "duration": 11.880191,
     "end_time": "2023-11-17T15:39:28.537733",
     "exception": false,
     "start_time": "2023-11-17T15:39:16.657542",
     "status": "completed"
    },
    "tags": []
   },
   "outputs": [
    {
     "name": "stderr",
     "output_type": "stream",
     "text": [
      "/opt/conda/lib/python3.10/site-packages/scipy/__init__.py:146: UserWarning: A NumPy version >=1.16.5 and <1.23.0 is required for this version of SciPy (detected version 1.24.3\n",
      "  warnings.warn(f\"A NumPy version >={np_minversion} and <{np_maxversion}\"\n",
      "/opt/conda/lib/python3.10/site-packages/tensorflow_addons/utils/tfa_eol_msg.py:23: UserWarning: \n",
      "\n",
      "TensorFlow Addons (TFA) has ended development and introduction of new features.\n",
      "TFA has entered a minimal maintenance and release mode until a planned end of life in May 2024.\n",
      "Please modify downstream libraries to take dependencies from other repositories in our TensorFlow community (e.g. Keras, Keras-CV, and Keras-NLP). \n",
      "\n",
      "For more information see: https://github.com/tensorflow/addons/issues/2807 \n",
      "\n",
      "  warnings.warn(\n"
     ]
    }
   ],
   "source": [
    "import numpy as np\n",
    "import tensorflow as tf\n",
    "from tensorflow import keras\n",
    "from tensorflow.keras import layers\n",
    "import tensorflow_addons as tfa"
   ]
  },
  {
   "cell_type": "code",
   "execution_count": 4,
   "id": "8a3639ce",
   "metadata": {
    "execution": {
     "iopub.execute_input": "2023-11-17T15:39:28.549540Z",
     "iopub.status.busy": "2023-11-17T15:39:28.548974Z",
     "iopub.status.idle": "2023-11-17T15:39:39.358806Z",
     "shell.execute_reply": "2023-11-17T15:39:39.357633Z"
    },
    "papermill": {
     "duration": 10.818053,
     "end_time": "2023-11-17T15:39:39.361008",
     "exception": false,
     "start_time": "2023-11-17T15:39:28.542955",
     "status": "completed"
    },
    "tags": []
   },
   "outputs": [
    {
     "name": "stdout",
     "output_type": "stream",
     "text": [
      "Downloading data from https://www.cs.toronto.edu/~kriz/cifar-100-python.tar.gz\n",
      "169001437/169001437 [==============================] - 8s 0us/step\n",
      "x_train shape: (50000, 32, 32, 3) - y_train shape: (50000, 1)\n",
      "x_test shape: (10000, 32, 32, 3) - y_test shape: (10000, 1)\n"
     ]
    }
   ],
   "source": [
    "num_classes = 100\n",
    "input_shape = (32, 32, 3)\n",
    "\n",
    "(x_train, y_train), (x_test, y_test) = keras.datasets.cifar100.load_data()\n",
    "\n",
    "print(f\"x_train shape: {x_train.shape} - y_train shape: {y_train.shape}\")\n",
    "print(f\"x_test shape: {x_test.shape} - y_test shape: {y_test.shape}\")"
   ]
  },
  {
   "cell_type": "code",
   "execution_count": 5,
   "id": "4feb7d75",
   "metadata": {
    "execution": {
     "iopub.execute_input": "2023-11-17T15:39:39.391357Z",
     "iopub.status.busy": "2023-11-17T15:39:39.391028Z",
     "iopub.status.idle": "2023-11-17T15:39:39.396601Z",
     "shell.execute_reply": "2023-11-17T15:39:39.395731Z"
    },
    "papermill": {
     "duration": 0.022997,
     "end_time": "2023-11-17T15:39:39.398464",
     "exception": false,
     "start_time": "2023-11-17T15:39:39.375467",
     "status": "completed"
    },
    "tags": []
   },
   "outputs": [],
   "source": [
    "learning_rate = 0.001\n",
    "weight_decay = 0.0001\n",
    "batch_size = 256\n",
    "num_epochs = 100\n",
    "image_size = 72  # We'll resize input images to this size\n",
    "patch_size = 6  # Size of the patches to be extract from the input images\n",
    "num_patches = (image_size // patch_size) ** 2\n",
    "projection_dim = 64\n",
    "num_heads = 4\n",
    "transformer_units = [\n",
    "    projection_dim * 2,\n",
    "    projection_dim,\n",
    "]  # Size of the transformer layers\n",
    "transformer_layers = 8\n",
    "mlp_head_units = [2048, 1024]  # Size of the dense layers of the final classifier"
   ]
  },
  {
   "cell_type": "code",
   "execution_count": 6,
   "id": "380218ae",
   "metadata": {
    "execution": {
     "iopub.execute_input": "2023-11-17T15:39:39.427990Z",
     "iopub.status.busy": "2023-11-17T15:39:39.427725Z",
     "iopub.status.idle": "2023-11-17T15:39:46.337310Z",
     "shell.execute_reply": "2023-11-17T15:39:46.336480Z"
    },
    "papermill": {
     "duration": 6.927328,
     "end_time": "2023-11-17T15:39:46.339902",
     "exception": false,
     "start_time": "2023-11-17T15:39:39.412574",
     "status": "completed"
    },
    "tags": []
   },
   "outputs": [],
   "source": [
    "data_augmentation = keras.Sequential(\n",
    "    [\n",
    "        layers.Normalization(),\n",
    "        layers.Resizing(image_size, image_size),\n",
    "        layers.RandomFlip(\"horizontal\"),\n",
    "        layers.RandomRotation(factor=0.02),\n",
    "        layers.RandomZoom(\n",
    "            height_factor=0.2, width_factor=0.2\n",
    "        ),\n",
    "    ],\n",
    "    name=\"data_augmentation\",\n",
    ")\n",
    "# Compute the mean and the variance of the training data for normalization.\n",
    "data_augmentation.layers[0].adapt(x_train)"
   ]
  },
  {
   "cell_type": "code",
   "execution_count": 7,
   "id": "7d0c6731",
   "metadata": {
    "execution": {
     "iopub.execute_input": "2023-11-17T15:39:46.370764Z",
     "iopub.status.busy": "2023-11-17T15:39:46.370442Z",
     "iopub.status.idle": "2023-11-17T15:39:46.375151Z",
     "shell.execute_reply": "2023-11-17T15:39:46.374336Z"
    },
    "papermill": {
     "duration": 0.02215,
     "end_time": "2023-11-17T15:39:46.376986",
     "exception": false,
     "start_time": "2023-11-17T15:39:46.354836",
     "status": "completed"
    },
    "tags": []
   },
   "outputs": [],
   "source": [
    "def mlp(x, hidden_units, dropout_rate):\n",
    "    for units in hidden_units:\n",
    "        x = layers.Dense(units, activation=tf.nn.gelu)(x)\n",
    "        x = layers.Dropout(dropout_rate)(x)\n",
    "    return x"
   ]
  },
  {
   "cell_type": "code",
   "execution_count": 8,
   "id": "31ffe904",
   "metadata": {
    "execution": {
     "iopub.execute_input": "2023-11-17T15:39:46.406643Z",
     "iopub.status.busy": "2023-11-17T15:39:46.406307Z",
     "iopub.status.idle": "2023-11-17T15:39:46.413162Z",
     "shell.execute_reply": "2023-11-17T15:39:46.412333Z"
    },
    "papermill": {
     "duration": 0.023872,
     "end_time": "2023-11-17T15:39:46.415003",
     "exception": false,
     "start_time": "2023-11-17T15:39:46.391131",
     "status": "completed"
    },
    "tags": []
   },
   "outputs": [],
   "source": [
    "class Patches(layers.Layer):\n",
    "    def __init__(self, patch_size):\n",
    "        super().__init__()\n",
    "        self.patch_size = patch_size\n",
    "\n",
    "    def call(self, images):\n",
    "        batch_size = tf.shape(images)[0]\n",
    "        patches = tf.image.extract_patches(\n",
    "            images=images,\n",
    "            sizes=[1, self.patch_size, self.patch_size, 1],\n",
    "            strides=[1, self.patch_size, self.patch_size, 1],\n",
    "            rates=[1, 1, 1, 1],\n",
    "            padding=\"VALID\",\n",
    "        )\n",
    "        patch_dims = patches.shape[-1]\n",
    "        patches = tf.reshape(patches, [batch_size, -1, patch_dims])\n",
    "        return patches"
   ]
  },
  {
   "cell_type": "code",
   "execution_count": 9,
   "id": "4066ad1d",
   "metadata": {
    "execution": {
     "iopub.execute_input": "2023-11-17T15:39:46.444359Z",
     "iopub.status.busy": "2023-11-17T15:39:46.443733Z",
     "iopub.status.idle": "2023-11-17T15:39:49.420660Z",
     "shell.execute_reply": "2023-11-17T15:39:49.419692Z"
    },
    "papermill": {
     "duration": 2.994485,
     "end_time": "2023-11-17T15:39:49.423326",
     "exception": false,
     "start_time": "2023-11-17T15:39:46.428841",
     "status": "completed"
    },
    "tags": []
   },
   "outputs": [],
   "source": [
    "data_augmentation = keras.Sequential(\n",
    "    [\n",
    "        layers.Normalization(),\n",
    "        layers.Resizing(image_size, image_size),\n",
    "        layers.RandomFlip(\"horizontal\"),\n",
    "        layers.RandomRotation(factor=0.02),\n",
    "        layers.RandomZoom(\n",
    "            height_factor=0.2, width_factor=0.2\n",
    "        ),\n",
    "    ],\n",
    "    name=\"data_augmentation\",\n",
    ")\n",
    "# Compute the mean and the variance of the training data for normalization.\n",
    "data_augmentation.layers[0].adapt(x_train)\n",
    "def mlp(x, hidden_units, dropout_rate):\n",
    "    for units in hidden_units:\n",
    "        x = layers.Dense(units, activation=tf.nn.gelu)(x)\n",
    "        x = layers.Dropout(dropout_rate)(x)\n",
    "    return x"
   ]
  },
  {
   "cell_type": "code",
   "execution_count": 10,
   "id": "9fdaf8f9",
   "metadata": {
    "execution": {
     "iopub.execute_input": "2023-11-17T15:39:49.456297Z",
     "iopub.status.busy": "2023-11-17T15:39:49.455606Z",
     "iopub.status.idle": "2023-11-17T15:39:49.460717Z",
     "shell.execute_reply": "2023-11-17T15:39:49.459803Z"
    },
    "papermill": {
     "duration": 0.023941,
     "end_time": "2023-11-17T15:39:49.462624",
     "exception": false,
     "start_time": "2023-11-17T15:39:49.438683",
     "status": "completed"
    },
    "tags": []
   },
   "outputs": [],
   "source": [
    "def mlp(x, hidden_units, dropout_rate):\n",
    "    for units in hidden_units:\n",
    "        x = layers.Dense(units, activation=tf.nn.gelu)(x)\n",
    "        x = layers.Dropout(dropout_rate)(x)\n",
    "    return x"
   ]
  },
  {
   "cell_type": "code",
   "execution_count": 11,
   "id": "2d2d57ed",
   "metadata": {
    "execution": {
     "iopub.execute_input": "2023-11-17T15:39:49.495945Z",
     "iopub.status.busy": "2023-11-17T15:39:49.495634Z",
     "iopub.status.idle": "2023-11-17T15:39:49.503407Z",
     "shell.execute_reply": "2023-11-17T15:39:49.502413Z"
    },
    "papermill": {
     "duration": 0.027657,
     "end_time": "2023-11-17T15:39:49.505584",
     "exception": false,
     "start_time": "2023-11-17T15:39:49.477927",
     "status": "completed"
    },
    "tags": []
   },
   "outputs": [],
   "source": [
    "class Patches(layers.Layer):\n",
    "    def __init__(self, patch_size):\n",
    "        super().__init__()\n",
    "        self.patch_size = patch_size\n",
    "\n",
    "    def call(self, images):\n",
    "        batch_size = tf.shape(images)[0]\n",
    "        patches = tf.image.extract_patches(\n",
    "            images=images,\n",
    "            sizes=[1, self.patch_size, self.patch_size, 1],\n",
    "            strides=[1, self.patch_size, self.patch_size, 1],\n",
    "            rates=[1, 1, 1, 1],\n",
    "            padding=\"VALID\",\n",
    "        )\n",
    "        patch_dims = patches.shape[-1]\n",
    "        patches = tf.reshape(patches, [batch_size, -1, patch_dims])\n",
    "        return patches"
   ]
  },
  {
   "cell_type": "code",
   "execution_count": 12,
   "id": "5adbb7b8",
   "metadata": {
    "execution": {
     "iopub.execute_input": "2023-11-17T15:39:49.539694Z",
     "iopub.status.busy": "2023-11-17T15:39:49.539350Z",
     "iopub.status.idle": "2023-11-17T15:39:54.463026Z",
     "shell.execute_reply": "2023-11-17T15:39:54.462102Z"
    },
    "papermill": {
     "duration": 4.944696,
     "end_time": "2023-11-17T15:39:54.466679",
     "exception": false,
     "start_time": "2023-11-17T15:39:49.521983",
     "status": "completed"
    },
    "tags": []
   },
   "outputs": [
    {
     "name": "stdout",
     "output_type": "stream",
     "text": [
      "Image size: 72 X 72\n",
      "Patch size: 6 X 6\n",
      "Patches per image: 144\n",
      "Elements per patch: 108\n"
     ]
    },
    {
     "data": {
      "image/png": "[encoded data removed]",
      "text/plain": [
       "<Figure size 400x400 with 1 Axes>"
      ]
     },
     "metadata": {},
     "output_type": "display_data"
    },
    {
     "data": {
      "image/png": "[encoded data removed]",
      "text/plain": [
       "<Figure size 400x400 with 144 Axes>"
      ]
     },
     "metadata": {},
     "output_type": "display_data"
    }
   ],
   "source": [
    "import matplotlib.pyplot as plt\n",
    "\n",
    "plt.figure(figsize=(4, 4))\n",
    "image = x_train[np.random.choice(range(x_train.shape[0]))]\n",
    "plt.imshow(image.astype(\"uint8\"))\n",
    "plt.axis(\"off\")\n",
    "\n",
    "resized_image = tf.image.resize(\n",
    "    tf.convert_to_tensor([image]), size=(image_size, image_size)\n",
    ")\n",
    "patches = Patches(patch_size)(resized_image)\n",
    "print(f\"Image size: {image_size} X {image_size}\")\n",
    "print(f\"Patch size: {patch_size} X {patch_size}\")\n",
    "print(f\"Patches per image: {patches.shape[1]}\")\n",
    "print(f\"Elements per patch: {patches.shape[-1]}\")\n",
    "\n",
    "n = int(np.sqrt(patches.shape[1]))\n",
    "plt.figure(figsize=(4, 4))\n",
    "for i, patch in enumerate(patches[0]):\n",
    "    ax = plt.subplot(n, n, i + 1)\n",
    "    patch_img = tf.reshape(patch, (patch_size, patch_size, 3))\n",
    "    plt.imshow(patch_img.numpy().astype(\"uint8\"))\n",
    "    plt.axis(\"off\")"
   ]
  },
  {
   "cell_type": "code",
   "execution_count": 13,
   "id": "2236f4d1",
   "metadata": {
    "execution": {
     "iopub.execute_input": "2023-11-17T15:39:54.500046Z",
     "iopub.status.busy": "2023-11-17T15:39:54.499627Z",
     "iopub.status.idle": "2023-11-17T15:39:54.506208Z",
     "shell.execute_reply": "2023-11-17T15:39:54.505302Z"
    },
    "papermill": {
     "duration": 0.024854,
     "end_time": "2023-11-17T15:39:54.508078",
     "exception": false,
     "start_time": "2023-11-17T15:39:54.483224",
     "status": "completed"
    },
    "tags": []
   },
   "outputs": [],
   "source": [
    "class PatchEncoder(layers.Layer):\n",
    "    def __init__(self, num_patches, projection_dim):\n",
    "        super().__init__()\n",
    "        self.num_patches = num_patches\n",
    "        self.projection = layers.Dense(units=projection_dim)\n",
    "        self.position_embedding = layers.Embedding(\n",
    "            input_dim=num_patches, output_dim=projection_dim\n",
    "        )\n",
    "\n",
    "    def call(self, patch):\n",
    "        positions = tf.range(start=0, limit=self.num_patches, delta=1)\n",
    "        encoded = self.projection(patch) + self.position_embedding(positions)\n",
    "        return encoded"
   ]
  },
  {
   "cell_type": "code",
   "execution_count": 14,
   "id": "b9e30d71",
   "metadata": {
    "execution": {
     "iopub.execute_input": "2023-11-17T15:39:54.543527Z",
     "iopub.status.busy": "2023-11-17T15:39:54.542742Z",
     "iopub.status.idle": "2023-11-17T15:39:54.552756Z",
     "shell.execute_reply": "2023-11-17T15:39:54.551935Z"
    },
    "papermill": {
     "duration": 0.03128,
     "end_time": "2023-11-17T15:39:54.554941",
     "exception": false,
     "start_time": "2023-11-17T15:39:54.523661",
     "status": "completed"
    },
    "tags": []
   },
   "outputs": [],
   "source": [
    "def create_vit_classifier():\n",
    "    inputs = layers.Input(shape=input_shape)\n",
    "    # Augment data.\n",
    "    augmented = data_augmentation(inputs)\n",
    "    # Create patches.\n",
    "    patches = Patches(patch_size)(augmented)\n",
    "    # Encode patches.\n",
    "    encoded_patches = PatchEncoder(num_patches, projection_dim)(patches)\n",
    "    # Create multiple layers of the Transformer block.\n",
    "    for _ in range(transformer_layers):\n",
    "        # Layer normalization 1.\n",
    "        x1 = layers.LayerNormalization(epsilon=1e-6)(encoded_patches)\n",
    "        # Create a multi-head attention layer.\n",
    "        attention_output = layers.MultiHeadAttention(\n",
    "            num_heads=num_heads, key_dim=projection_dim, dropout=0.1\n",
    "        )(x1, x1)\n",
    "        # Skip connection 1.\n",
    "        x2 = layers.Add()([attention_output, encoded_patches])\n",
    "        # Layer normalization 2.\n",
    "        x3 = layers.LayerNormalization(epsilon=1e-6)(x2)\n",
    "        # MLP.\n",
    "        x3 = mlp(x3, hidden_units=transformer_units, dropout_rate=0.1)\n",
    "        # Skip connection 2.\n",
    "        encoded_patches = layers.Add()([x3, x2])\n",
    "# Create a [batch_size, projection_dim] tensor.\n",
    "    representation = layers.LayerNormalization(epsilon=1e-6)(encoded_patches)\n",
    "    representation = layers.Flatten()(representation)\n",
    "    representation = layers.Dropout(0.5)(representation)\n",
    "    # Add MLP.\n",
    "    features = mlp(representation, hidden_units=mlp_head_units, dropout_rate=0.5)\n",
    "    # Classify outputs.\n",
    "    logits = layers.Dense(num_classes)(features)\n",
    "    # Create the Keras model.\n",
    "    model = keras.Model(inputs=inputs, outputs=logits)\n",
    "    return model"
   ]
  },
  {
   "cell_type": "code",
   "execution_count": 15,
   "id": "0260f8a4",
   "metadata": {
    "execution": {
     "iopub.execute_input": "2023-11-17T15:39:54.591212Z",
     "iopub.status.busy": "2023-11-17T15:39:54.590922Z",
     "iopub.status.idle": "2023-11-17T17:28:55.654989Z",
     "shell.execute_reply": "2023-11-17T17:28:55.654095Z"
    },
    "papermill": {
     "duration": 6541.084453,
     "end_time": "2023-11-17T17:28:55.656842",
     "exception": false,
     "start_time": "2023-11-17T15:39:54.572389",
     "status": "completed"
    },
    "tags": []
   },
   "outputs": [
    {
     "name": "stdout",
     "output_type": "stream",
     "text": [
      "Epoch 1/100\n",
      "176/176 [==============================] - 77s 362ms/step - loss: 4.4553 - accuracy: 0.0468 - top-5-accuracy: 0.1662 - val_loss: 3.9132 - val_accuracy: 0.1050 - val_top-5-accuracy: 0.3112\n",
      "Epoch 2/100\n",
      "176/176 [==============================] - 66s 373ms/step - loss: 3.9433 - accuracy: 0.0968 - top-5-accuracy: 0.2919 - val_loss: 3.5679 - val_accuracy: 0.1592 - val_top-5-accuracy: 0.4072\n",
      "Epoch 3/100\n",
      "176/176 [==============================] - 66s 373ms/step - loss: 3.6881 - accuracy: 0.1343 - top-5-accuracy: 0.3675 - val_loss: 3.4322 - val_accuracy: 0.1874 - val_top-5-accuracy: 0.4494\n",
      "Epoch 4/100\n",
      "176/176 [==============================] - 66s 375ms/step - loss: 3.5033 - accuracy: 0.1630 - top-5-accuracy: 0.4206 - val_loss: 3.1624 - val_accuracy: 0.2320 - val_top-5-accuracy: 0.5198\n",
      "Epoch 5/100\n",
      "176/176 [==============================] - 66s 374ms/step - loss: 3.3688 - accuracy: 0.1879 - top-5-accuracy: 0.4591 - val_loss: 3.0962 - val_accuracy: 0.2448 - val_top-5-accuracy: 0.5356\n",
      "Epoch 6/100\n",
      "176/176 [==============================] - 67s 378ms/step - loss: 3.2516 - accuracy: 0.2091 - top-5-accuracy: 0.4920 - val_loss: 2.9755 - val_accuracy: 0.2630 - val_top-5-accuracy: 0.5646\n",
      "Epoch 7/100\n",
      "176/176 [==============================] - 66s 374ms/step - loss: 3.1425 - accuracy: 0.2327 - top-5-accuracy: 0.5214 - val_loss: 2.8555 - val_accuracy: 0.2910 - val_top-5-accuracy: 0.5900\n",
      "Epoch 8/100\n",
      "176/176 [==============================] - 66s 375ms/step - loss: 3.0293 - accuracy: 0.2521 - top-5-accuracy: 0.5472 - val_loss: 2.7643 - val_accuracy: 0.3056 - val_top-5-accuracy: 0.6084\n",
      "Epoch 9/100\n",
      "176/176 [==============================] - 66s 375ms/step - loss: 2.9210 - accuracy: 0.2737 - top-5-accuracy: 0.5748 - val_loss: 2.6752 - val_accuracy: 0.3324 - val_top-5-accuracy: 0.6362\n",
      "Epoch 10/100\n",
      "176/176 [==============================] - 66s 375ms/step - loss: 2.8205 - accuracy: 0.2911 - top-5-accuracy: 0.5966 - val_loss: 2.5938 - val_accuracy: 0.3476 - val_top-5-accuracy: 0.6456\n",
      "Epoch 11/100\n",
      "176/176 [==============================] - 66s 376ms/step - loss: 2.7262 - accuracy: 0.3098 - top-5-accuracy: 0.6206 - val_loss: 2.4970 - val_accuracy: 0.3616 - val_top-5-accuracy: 0.6750\n",
      "Epoch 12/100\n",
      "176/176 [==============================] - 66s 375ms/step - loss: 2.6520 - accuracy: 0.3222 - top-5-accuracy: 0.6389 - val_loss: 2.4464 - val_accuracy: 0.3784 - val_top-5-accuracy: 0.6768\n",
      "Epoch 13/100\n",
      "176/176 [==============================] - 66s 374ms/step - loss: 2.5690 - accuracy: 0.3398 - top-5-accuracy: 0.6564 - val_loss: 2.4130 - val_accuracy: 0.3818 - val_top-5-accuracy: 0.6920\n",
      "Epoch 14/100\n",
      "176/176 [==============================] - 66s 374ms/step - loss: 2.5002 - accuracy: 0.3588 - top-5-accuracy: 0.6727 - val_loss: 2.3324 - val_accuracy: 0.3960 - val_top-5-accuracy: 0.7074\n",
      "Epoch 15/100\n",
      "176/176 [==============================] - 66s 376ms/step - loss: 2.4232 - accuracy: 0.3694 - top-5-accuracy: 0.6870 - val_loss: 2.2826 - val_accuracy: 0.4122 - val_top-5-accuracy: 0.7144\n",
      "Epoch 16/100\n",
      "176/176 [==============================] - 66s 374ms/step - loss: 2.3670 - accuracy: 0.3846 - top-5-accuracy: 0.7014 - val_loss: 2.2450 - val_accuracy: 0.4178 - val_top-5-accuracy: 0.7224\n",
      "Epoch 17/100\n",
      "176/176 [==============================] - 66s 374ms/step - loss: 2.2903 - accuracy: 0.3995 - top-5-accuracy: 0.7151 - val_loss: 2.2121 - val_accuracy: 0.4254 - val_top-5-accuracy: 0.7262\n",
      "Epoch 18/100\n",
      "176/176 [==============================] - 66s 377ms/step - loss: 2.2306 - accuracy: 0.4144 - top-5-accuracy: 0.7274 - val_loss: 2.1416 - val_accuracy: 0.4476 - val_top-5-accuracy: 0.7360\n",
      "Epoch 19/100\n",
      "176/176 [==============================] - 65s 368ms/step - loss: 2.1617 - accuracy: 0.4282 - top-5-accuracy: 0.7419 - val_loss: 2.1348 - val_accuracy: 0.4410 - val_top-5-accuracy: 0.7426\n",
      "Epoch 20/100\n",
      "176/176 [==============================] - 65s 368ms/step - loss: 2.1124 - accuracy: 0.4383 - top-5-accuracy: 0.7541 - val_loss: 2.1140 - val_accuracy: 0.4468 - val_top-5-accuracy: 0.7480\n",
      "Epoch 21/100\n",
      "176/176 [==============================] - 66s 375ms/step - loss: 2.0513 - accuracy: 0.4526 - top-5-accuracy: 0.7652 - val_loss: 2.0892 - val_accuracy: 0.4500 - val_top-5-accuracy: 0.7506\n",
      "Epoch 22/100\n",
      "176/176 [==============================] - 66s 374ms/step - loss: 2.0082 - accuracy: 0.4626 - top-5-accuracy: 0.7752 - val_loss: 2.0863 - val_accuracy: 0.4538 - val_top-5-accuracy: 0.7486\n",
      "Epoch 23/100\n",
      "176/176 [==============================] - 66s 375ms/step - loss: 1.9527 - accuracy: 0.4737 - top-5-accuracy: 0.7835 - val_loss: 2.0017 - val_accuracy: 0.4682 - val_top-5-accuracy: 0.7678\n",
      "Epoch 24/100\n",
      "176/176 [==============================] - 66s 376ms/step - loss: 1.8950 - accuracy: 0.4855 - top-5-accuracy: 0.7951 - val_loss: 2.0079 - val_accuracy: 0.4726 - val_top-5-accuracy: 0.7694\n",
      "Epoch 25/100\n",
      "176/176 [==============================] - 66s 376ms/step - loss: 1.8602 - accuracy: 0.4920 - top-5-accuracy: 0.8004 - val_loss: 1.9694 - val_accuracy: 0.4790 - val_top-5-accuracy: 0.7746\n",
      "Epoch 26/100\n",
      "176/176 [==============================] - 65s 368ms/step - loss: 1.8181 - accuracy: 0.5023 - top-5-accuracy: 0.8064 - val_loss: 1.9887 - val_accuracy: 0.4770 - val_top-5-accuracy: 0.7734\n",
      "Epoch 27/100\n",
      "176/176 [==============================] - 66s 375ms/step - loss: 1.7823 - accuracy: 0.5159 - top-5-accuracy: 0.8148 - val_loss: 1.9640 - val_accuracy: 0.4816 - val_top-5-accuracy: 0.7738\n",
      "Epoch 28/100\n",
      "176/176 [==============================] - 66s 376ms/step - loss: 1.7354 - accuracy: 0.5225 - top-5-accuracy: 0.8239 - val_loss: 1.9513 - val_accuracy: 0.4880 - val_top-5-accuracy: 0.7800\n",
      "Epoch 29/100\n",
      "176/176 [==============================] - 66s 375ms/step - loss: 1.7008 - accuracy: 0.5341 - top-5-accuracy: 0.8291 - val_loss: 1.9240 - val_accuracy: 0.4910 - val_top-5-accuracy: 0.7860\n",
      "Epoch 30/100\n",
      "176/176 [==============================] - 66s 376ms/step - loss: 1.6599 - accuracy: 0.5416 - top-5-accuracy: 0.8351 - val_loss: 1.9331 - val_accuracy: 0.4942 - val_top-5-accuracy: 0.7820\n",
      "Epoch 31/100\n",
      "176/176 [==============================] - 66s 375ms/step - loss: 1.6286 - accuracy: 0.5468 - top-5-accuracy: 0.8420 - val_loss: 1.9345 - val_accuracy: 0.4966 - val_top-5-accuracy: 0.7844\n",
      "Epoch 32/100\n",
      "176/176 [==============================] - 66s 374ms/step - loss: 1.5911 - accuracy: 0.5554 - top-5-accuracy: 0.8491 - val_loss: 1.9186 - val_accuracy: 0.5012 - val_top-5-accuracy: 0.7902\n",
      "Epoch 33/100\n",
      "176/176 [==============================] - 66s 375ms/step - loss: 1.5550 - accuracy: 0.5671 - top-5-accuracy: 0.8558 - val_loss: 1.8763 - val_accuracy: 0.5090 - val_top-5-accuracy: 0.8024\n",
      "Epoch 34/100\n",
      "176/176 [==============================] - 66s 375ms/step - loss: 1.5240 - accuracy: 0.5715 - top-5-accuracy: 0.8604 - val_loss: 1.8600 - val_accuracy: 0.5116 - val_top-5-accuracy: 0.7972\n",
      "Epoch 35/100\n",
      "176/176 [==============================] - 65s 368ms/step - loss: 1.5004 - accuracy: 0.5795 - top-5-accuracy: 0.8630 - val_loss: 1.8972 - val_accuracy: 0.5080 - val_top-5-accuracy: 0.7942\n",
      "Epoch 36/100\n",
      "176/176 [==============================] - 65s 368ms/step - loss: 1.4696 - accuracy: 0.5821 - top-5-accuracy: 0.8695 - val_loss: 1.8847 - val_accuracy: 0.5114 - val_top-5-accuracy: 0.8046\n",
      "Epoch 37/100\n",
      "176/176 [==============================] - 65s 368ms/step - loss: 1.4332 - accuracy: 0.5963 - top-5-accuracy: 0.8745 - val_loss: 1.9061 - val_accuracy: 0.5028 - val_top-5-accuracy: 0.7938\n",
      "Epoch 38/100\n",
      "176/176 [==============================] - 66s 375ms/step - loss: 1.4192 - accuracy: 0.5977 - top-5-accuracy: 0.8779 - val_loss: 1.8388 - val_accuracy: 0.5188 - val_top-5-accuracy: 0.7996\n",
      "Epoch 39/100\n",
      "176/176 [==============================] - 65s 368ms/step - loss: 1.3804 - accuracy: 0.6068 - top-5-accuracy: 0.8819 - val_loss: 1.8711 - val_accuracy: 0.5164 - val_top-5-accuracy: 0.8032\n",
      "Epoch 40/100\n",
      "176/176 [==============================] - 66s 375ms/step - loss: 1.3643 - accuracy: 0.6106 - top-5-accuracy: 0.8853 - val_loss: 1.8584 - val_accuracy: 0.5250 - val_top-5-accuracy: 0.8016\n",
      "Epoch 41/100\n",
      "176/176 [==============================] - 65s 368ms/step - loss: 1.3446 - accuracy: 0.6153 - top-5-accuracy: 0.8890 - val_loss: 1.8577 - val_accuracy: 0.5114 - val_top-5-accuracy: 0.8060\n",
      "Epoch 42/100\n",
      "176/176 [==============================] - 65s 368ms/step - loss: 1.3165 - accuracy: 0.6232 - top-5-accuracy: 0.8941 - val_loss: 1.8706 - val_accuracy: 0.5182 - val_top-5-accuracy: 0.8002\n",
      "Epoch 43/100\n",
      "176/176 [==============================] - 65s 367ms/step - loss: 1.2973 - accuracy: 0.6291 - top-5-accuracy: 0.8952 - val_loss: 1.8896 - val_accuracy: 0.5120 - val_top-5-accuracy: 0.7988\n",
      "Epoch 44/100\n",
      "176/176 [==============================] - 65s 368ms/step - loss: 1.2626 - accuracy: 0.6328 - top-5-accuracy: 0.9017 - val_loss: 1.8867 - val_accuracy: 0.5238 - val_top-5-accuracy: 0.8040\n",
      "Epoch 45/100\n",
      "176/176 [==============================] - 65s 368ms/step - loss: 1.2523 - accuracy: 0.6384 - top-5-accuracy: 0.9012 - val_loss: 1.8603 - val_accuracy: 0.5194 - val_top-5-accuracy: 0.8062\n",
      "Epoch 46/100\n",
      "176/176 [==============================] - 65s 368ms/step - loss: 1.2305 - accuracy: 0.6462 - top-5-accuracy: 0.9070 - val_loss: 1.8728 - val_accuracy: 0.5170 - val_top-5-accuracy: 0.8074\n",
      "Epoch 47/100\n",
      "176/176 [==============================] - 66s 375ms/step - loss: 1.2160 - accuracy: 0.6482 - top-5-accuracy: 0.9067 - val_loss: 1.8355 - val_accuracy: 0.5304 - val_top-5-accuracy: 0.8040\n",
      "Epoch 48/100\n",
      "176/176 [==============================] - 65s 368ms/step - loss: 1.1893 - accuracy: 0.6559 - top-5-accuracy: 0.9118 - val_loss: 1.8798 - val_accuracy: 0.5228 - val_top-5-accuracy: 0.8048\n",
      "Epoch 49/100\n",
      "176/176 [==============================] - 65s 368ms/step - loss: 1.1803 - accuracy: 0.6572 - top-5-accuracy: 0.9131 - val_loss: 1.8621 - val_accuracy: 0.5276 - val_top-5-accuracy: 0.8078\n",
      "Epoch 50/100\n",
      "176/176 [==============================] - 65s 367ms/step - loss: 1.1563 - accuracy: 0.6615 - top-5-accuracy: 0.9163 - val_loss: 1.8441 - val_accuracy: 0.5296 - val_top-5-accuracy: 0.8118\n",
      "Epoch 51/100\n",
      "176/176 [==============================] - 65s 368ms/step - loss: 1.1465 - accuracy: 0.6649 - top-5-accuracy: 0.9174 - val_loss: 1.8583 - val_accuracy: 0.5230 - val_top-5-accuracy: 0.8068\n",
      "Epoch 52/100\n",
      "176/176 [==============================] - 65s 368ms/step - loss: 1.1296 - accuracy: 0.6700 - top-5-accuracy: 0.9196 - val_loss: 1.8679 - val_accuracy: 0.5276 - val_top-5-accuracy: 0.8138\n",
      "Epoch 53/100\n",
      "176/176 [==============================] - 66s 374ms/step - loss: 1.1107 - accuracy: 0.6737 - top-5-accuracy: 0.9223 - val_loss: 1.8590 - val_accuracy: 0.5324 - val_top-5-accuracy: 0.8132\n",
      "Epoch 54/100\n",
      "176/176 [==============================] - 66s 375ms/step - loss: 1.0973 - accuracy: 0.6784 - top-5-accuracy: 0.9243 - val_loss: 1.8902 - val_accuracy: 0.5326 - val_top-5-accuracy: 0.8102\n",
      "Epoch 55/100\n",
      "176/176 [==============================] - 65s 368ms/step - loss: 1.0858 - accuracy: 0.6808 - top-5-accuracy: 0.9262 - val_loss: 1.9062 - val_accuracy: 0.5286 - val_top-5-accuracy: 0.8094\n",
      "Epoch 56/100\n",
      "176/176 [==============================] - 65s 368ms/step - loss: 1.0752 - accuracy: 0.6851 - top-5-accuracy: 0.9263 - val_loss: 1.8836 - val_accuracy: 0.5276 - val_top-5-accuracy: 0.8090\n",
      "Epoch 57/100\n",
      "176/176 [==============================] - 65s 367ms/step - loss: 1.0645 - accuracy: 0.6854 - top-5-accuracy: 0.9283 - val_loss: 1.9046 - val_accuracy: 0.5260 - val_top-5-accuracy: 0.8060\n",
      "Epoch 58/100\n",
      "176/176 [==============================] - 65s 367ms/step - loss: 1.0500 - accuracy: 0.6909 - top-5-accuracy: 0.9297 - val_loss: 1.8961 - val_accuracy: 0.5290 - val_top-5-accuracy: 0.8088\n",
      "Epoch 59/100\n",
      "176/176 [==============================] - 65s 368ms/step - loss: 1.0324 - accuracy: 0.6976 - top-5-accuracy: 0.9317 - val_loss: 1.9120 - val_accuracy: 0.5298 - val_top-5-accuracy: 0.8120\n",
      "Epoch 60/100\n",
      "176/176 [==============================] - 65s 368ms/step - loss: 1.0327 - accuracy: 0.6935 - top-5-accuracy: 0.9324 - val_loss: 1.9095 - val_accuracy: 0.5322 - val_top-5-accuracy: 0.8112\n",
      "Epoch 61/100\n",
      "176/176 [==============================] - 65s 368ms/step - loss: 1.0107 - accuracy: 0.7037 - top-5-accuracy: 0.9348 - val_loss: 1.8959 - val_accuracy: 0.5290 - val_top-5-accuracy: 0.8102\n",
      "Epoch 62/100\n",
      "176/176 [==============================] - 66s 375ms/step - loss: 1.0209 - accuracy: 0.6996 - top-5-accuracy: 0.9353 - val_loss: 1.8499 - val_accuracy: 0.5350 - val_top-5-accuracy: 0.8124\n",
      "Epoch 63/100\n",
      "176/176 [==============================] - 65s 368ms/step - loss: 0.9892 - accuracy: 0.7085 - top-5-accuracy: 0.9377 - val_loss: 1.9076 - val_accuracy: 0.5260 - val_top-5-accuracy: 0.8076\n",
      "Epoch 64/100\n",
      "176/176 [==============================] - 65s 368ms/step - loss: 0.9792 - accuracy: 0.7097 - top-5-accuracy: 0.9398 - val_loss: 1.9164 - val_accuracy: 0.5256 - val_top-5-accuracy: 0.8146\n",
      "Epoch 65/100\n",
      "176/176 [==============================] - 65s 368ms/step - loss: 0.9698 - accuracy: 0.7120 - top-5-accuracy: 0.9398 - val_loss: 1.8991 - val_accuracy: 0.5300 - val_top-5-accuracy: 0.8116\n",
      "Epoch 66/100\n",
      "176/176 [==============================] - 65s 367ms/step - loss: 0.9684 - accuracy: 0.7141 - top-5-accuracy: 0.9395 - val_loss: 1.9014 - val_accuracy: 0.5286 - val_top-5-accuracy: 0.8088\n",
      "Epoch 67/100\n",
      "176/176 [==============================] - 65s 368ms/step - loss: 0.9580 - accuracy: 0.7174 - top-5-accuracy: 0.9420 - val_loss: 1.8746 - val_accuracy: 0.5304 - val_top-5-accuracy: 0.8118\n",
      "Epoch 68/100\n",
      "176/176 [==============================] - 65s 368ms/step - loss: 0.9371 - accuracy: 0.7198 - top-5-accuracy: 0.9446 - val_loss: 1.9452 - val_accuracy: 0.5218 - val_top-5-accuracy: 0.8036\n",
      "Epoch 69/100\n",
      "176/176 [==============================] - 65s 368ms/step - loss: 0.9421 - accuracy: 0.7184 - top-5-accuracy: 0.9436 - val_loss: 1.8830 - val_accuracy: 0.5344 - val_top-5-accuracy: 0.8166\n",
      "Epoch 70/100\n",
      "176/176 [==============================] - 65s 368ms/step - loss: 0.9383 - accuracy: 0.7194 - top-5-accuracy: 0.9443 - val_loss: 1.9158 - val_accuracy: 0.5350 - val_top-5-accuracy: 0.8188\n",
      "Epoch 71/100\n",
      "176/176 [==============================] - 65s 368ms/step - loss: 0.9245 - accuracy: 0.7249 - top-5-accuracy: 0.9464 - val_loss: 1.8955 - val_accuracy: 0.5292 - val_top-5-accuracy: 0.8136\n",
      "Epoch 72/100\n",
      "176/176 [==============================] - 66s 374ms/step - loss: 0.9146 - accuracy: 0.7276 - top-5-accuracy: 0.9461 - val_loss: 1.9007 - val_accuracy: 0.5398 - val_top-5-accuracy: 0.8180\n",
      "Epoch 73/100\n",
      "176/176 [==============================] - 65s 367ms/step - loss: 0.9085 - accuracy: 0.7289 - top-5-accuracy: 0.9466 - val_loss: 1.8935 - val_accuracy: 0.5344 - val_top-5-accuracy: 0.8102\n",
      "Epoch 74/100\n",
      "176/176 [==============================] - 65s 368ms/step - loss: 0.8951 - accuracy: 0.7332 - top-5-accuracy: 0.9489 - val_loss: 1.9135 - val_accuracy: 0.5346 - val_top-5-accuracy: 0.8148\n",
      "Epoch 75/100\n",
      "176/176 [==============================] - 65s 368ms/step - loss: 0.9021 - accuracy: 0.7319 - top-5-accuracy: 0.9464 - val_loss: 1.9180 - val_accuracy: 0.5306 - val_top-5-accuracy: 0.8128\n",
      "Epoch 76/100\n",
      "176/176 [==============================] - 65s 367ms/step - loss: 0.8898 - accuracy: 0.7366 - top-5-accuracy: 0.9488 - val_loss: 1.9211 - val_accuracy: 0.5322 - val_top-5-accuracy: 0.8124\n",
      "Epoch 77/100\n",
      "176/176 [==============================] - 65s 367ms/step - loss: 0.8758 - accuracy: 0.7382 - top-5-accuracy: 0.9503 - val_loss: 1.9401 - val_accuracy: 0.5290 - val_top-5-accuracy: 0.8078\n",
      "Epoch 78/100\n",
      "176/176 [==============================] - 65s 367ms/step - loss: 0.8731 - accuracy: 0.7374 - top-5-accuracy: 0.9515 - val_loss: 1.9508 - val_accuracy: 0.5342 - val_top-5-accuracy: 0.8126\n",
      "Epoch 79/100\n",
      "176/176 [==============================] - 65s 367ms/step - loss: 0.8601 - accuracy: 0.7427 - top-5-accuracy: 0.9525 - val_loss: 1.9122 - val_accuracy: 0.5334 - val_top-5-accuracy: 0.8138\n",
      "Epoch 80/100\n",
      "176/176 [==============================] - 65s 368ms/step - loss: 0.8532 - accuracy: 0.7454 - top-5-accuracy: 0.9528 - val_loss: 1.9303 - val_accuracy: 0.5382 - val_top-5-accuracy: 0.8096\n",
      "Epoch 81/100\n",
      "176/176 [==============================] - 65s 368ms/step - loss: 0.8495 - accuracy: 0.7470 - top-5-accuracy: 0.9534 - val_loss: 1.9261 - val_accuracy: 0.5358 - val_top-5-accuracy: 0.8078\n",
      "Epoch 82/100\n",
      "176/176 [==============================] - 65s 368ms/step - loss: 0.8410 - accuracy: 0.7481 - top-5-accuracy: 0.9551 - val_loss: 1.8913 - val_accuracy: 0.5380 - val_top-5-accuracy: 0.8128\n",
      "Epoch 83/100\n",
      "176/176 [==============================] - 65s 367ms/step - loss: 0.8399 - accuracy: 0.7498 - top-5-accuracy: 0.9528 - val_loss: 1.9509 - val_accuracy: 0.5380 - val_top-5-accuracy: 0.8100\n",
      "Epoch 84/100\n",
      "176/176 [==============================] - 66s 374ms/step - loss: 0.8390 - accuracy: 0.7485 - top-5-accuracy: 0.9544 - val_loss: 1.9373 - val_accuracy: 0.5408 - val_top-5-accuracy: 0.8118\n",
      "Epoch 85/100\n",
      "176/176 [==============================] - 65s 367ms/step - loss: 0.8308 - accuracy: 0.7519 - top-5-accuracy: 0.9552 - val_loss: 1.9411 - val_accuracy: 0.5356 - val_top-5-accuracy: 0.8078\n",
      "Epoch 86/100\n",
      "176/176 [==============================] - 65s 368ms/step - loss: 0.8307 - accuracy: 0.7524 - top-5-accuracy: 0.9549 - val_loss: 1.9606 - val_accuracy: 0.5302 - val_top-5-accuracy: 0.8066\n",
      "Epoch 87/100\n",
      "176/176 [==============================] - 65s 368ms/step - loss: 0.8159 - accuracy: 0.7552 - top-5-accuracy: 0.9576 - val_loss: 1.9508 - val_accuracy: 0.5364 - val_top-5-accuracy: 0.8066\n",
      "Epoch 88/100\n",
      "176/176 [==============================] - 65s 367ms/step - loss: 0.8089 - accuracy: 0.7574 - top-5-accuracy: 0.9569 - val_loss: 1.9834 - val_accuracy: 0.5368 - val_top-5-accuracy: 0.8028\n",
      "Epoch 89/100\n",
      "176/176 [==============================] - 66s 374ms/step - loss: 0.8071 - accuracy: 0.7580 - top-5-accuracy: 0.9580 - val_loss: 1.9294 - val_accuracy: 0.5472 - val_top-5-accuracy: 0.8098\n",
      "Epoch 90/100\n",
      "176/176 [==============================] - 65s 367ms/step - loss: 0.7972 - accuracy: 0.7603 - top-5-accuracy: 0.9590 - val_loss: 1.9989 - val_accuracy: 0.5300 - val_top-5-accuracy: 0.8016\n",
      "Epoch 91/100\n",
      "176/176 [==============================] - 65s 368ms/step - loss: 0.7868 - accuracy: 0.7635 - top-5-accuracy: 0.9597 - val_loss: 1.9702 - val_accuracy: 0.5346 - val_top-5-accuracy: 0.8088\n",
      "Epoch 92/100\n",
      "176/176 [==============================] - 65s 368ms/step - loss: 0.7833 - accuracy: 0.7652 - top-5-accuracy: 0.9601 - val_loss: 2.0127 - val_accuracy: 0.5322 - val_top-5-accuracy: 0.8082\n",
      "Epoch 93/100\n",
      "176/176 [==============================] - 65s 368ms/step - loss: 0.7868 - accuracy: 0.7639 - top-5-accuracy: 0.9597 - val_loss: 1.9978 - val_accuracy: 0.5374 - val_top-5-accuracy: 0.8114\n",
      "Epoch 94/100\n",
      "176/176 [==============================] - 65s 367ms/step - loss: 0.7893 - accuracy: 0.7618 - top-5-accuracy: 0.9595 - val_loss: 1.9798 - val_accuracy: 0.5362 - val_top-5-accuracy: 0.8124\n",
      "Epoch 95/100\n",
      "176/176 [==============================] - 65s 367ms/step - loss: 0.7960 - accuracy: 0.7610 - top-5-accuracy: 0.9596 - val_loss: 1.9884 - val_accuracy: 0.5286 - val_top-5-accuracy: 0.8048\n",
      "Epoch 96/100\n",
      "176/176 [==============================] - 65s 367ms/step - loss: 0.7763 - accuracy: 0.7678 - top-5-accuracy: 0.9619 - val_loss: 1.9724 - val_accuracy: 0.5358 - val_top-5-accuracy: 0.8068\n",
      "Epoch 97/100\n",
      "176/176 [==============================] - 65s 368ms/step - loss: 0.7941 - accuracy: 0.7614 - top-5-accuracy: 0.9592 - val_loss: 1.9957 - val_accuracy: 0.5394 - val_top-5-accuracy: 0.8094\n",
      "Epoch 98/100\n",
      "176/176 [==============================] - 65s 368ms/step - loss: 0.7729 - accuracy: 0.7684 - top-5-accuracy: 0.9612 - val_loss: 1.9817 - val_accuracy: 0.5358 - val_top-5-accuracy: 0.8080\n",
      "Epoch 99/100\n",
      "176/176 [==============================] - 65s 368ms/step - loss: 0.7737 - accuracy: 0.7669 - top-5-accuracy: 0.9605 - val_loss: 1.9911 - val_accuracy: 0.5296 - val_top-5-accuracy: 0.8080\n",
      "Epoch 100/100\n",
      "176/176 [==============================] - 65s 367ms/step - loss: 0.7470 - accuracy: 0.7760 - top-5-accuracy: 0.9633 - val_loss: 1.9744 - val_accuracy: 0.5382 - val_top-5-accuracy: 0.8102\n",
      "313/313 [==============================] - 6s 21ms/step - loss: 1.8700 - accuracy: 0.5471 - top-5-accuracy: 0.8139\n",
      "Test accuracy: 54.71%\n",
      "Test top 5 accuracy: 81.39%\n"
     ]
    }
   ],
   "source": [
    "def run_experiment(model):\n",
    "    optimizer = tfa.optimizers.AdamW(\n",
    "        learning_rate=learning_rate, weight_decay=weight_decay\n",
    "    )\n",
    "\n",
    "    model.compile(\n",
    "        optimizer=optimizer,\n",
    "        loss=keras.losses.SparseCategoricalCrossentropy(from_logits=True),\n",
    "        metrics=[\n",
    "            keras.metrics.SparseCategoricalAccuracy(name=\"accuracy\"),\n",
    "            keras.metrics.SparseTopKCategoricalAccuracy(5, name=\"top-5-accuracy\"),\n",
    "        ],\n",
    "    )\n",
    "    checkpoint_filepath = \"/tmp/checkpoint\"\n",
    "    checkpoint_callback = keras.callbacks.ModelCheckpoint(\n",
    "        checkpoint_filepath,\n",
    "        monitor=\"val_accuracy\",\n",
    "        save_best_only=True,\n",
    "        save_weights_only=True,\n",
    "    )\n",
    "\n",
    "    history = model.fit(\n",
    "        x=x_train,\n",
    "        y=y_train,\n",
    "        batch_size=batch_size,\n",
    "        epochs=num_epochs,\n",
    "        validation_split=0.1,\n",
    "        callbacks=[checkpoint_callback],\n",
    "    )\n",
    "    model.load_weights(checkpoint_filepath)\n",
    "    _, accuracy, top_5_accuracy = model.evaluate(x_test, y_test)\n",
    "    print(f\"Test accuracy: {round(accuracy * 100, 2)}%\")\n",
    "    print(f\"Test top 5 accuracy: {round(top_5_accuracy * 100, 2)}%\")\n",
    "\n",
    "    return history\n",
    "\n",
    "\n",
    "vit_classifier = create_vit_classifier()\n",
    "history = run_experiment(vit_classifier)"
   ]
  }
 ],
 "metadata": {
  "kaggle": {
   "accelerator": "nvidiaTeslaT4",
   "dataSources": [],
   "dockerImageVersionId": 30579,
   "isGpuEnabled": true,
   "isInternetEnabled": true,
   "language": "python",
   "sourceType": "notebook"
  },
  "kernelspec": {
   "display_name": "Python 3",
   "language": "python",
   "name": "python3"
  },
  "language_info": {
   "codemirror_mode": {
    "name": "ipython",
    "version": 3
   },
   "file_extension": ".py",
   "mimetype": "text/x-python",
   "name": "python",
   "nbconvert_exporter": "python",
   "pygments_lexer": "ipython3",
   "version": "3.10.12"
  },
  "papermill": {
   "default_parameters": {},
   "duration": 6601.465841,
   "end_time": "2023-11-17T17:29:00.863811",
   "environment_variables": {},
   "exception": null,
   "input_path": "__notebook__.ipynb",
   "output_path": "__notebook__.ipynb",
   "parameters": {},
   "start_time": "2023-11-17T15:38:59.397970",
   "version": "2.4.0"
  }
 },
 "nbformat": 4,
 "nbformat_minor": 5
}
